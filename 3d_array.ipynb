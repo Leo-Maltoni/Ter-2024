{
 "cells": [
  {
   "cell_type": "code",
   "execution_count": 1,
   "metadata": {},
   "outputs": [],
   "source": [
    "import rasterio\n",
    "from rasterio.warp import calculate_default_transform, reproject, Resampling\n",
    "import numpy as np\n",
    "import matplotlib.pyplot as plt\n",
    "import geojson\n",
    "import geopandas as gpd\n",
    "from rasterio.mask import geometry_mask"
   ]
  },
  {
   "cell_type": "markdown",
   "metadata": {},
   "source": [
    "# Download data if needed"
   ]
  },
  {
   "cell_type": "markdown",
   "metadata": {},
   "source": [
    "## Download Sentinel-2 data"
   ]
  },
  {
   "cell_type": "code",
   "execution_count": 3,
   "metadata": {
    "scrolled": true
   },
   "outputs": [
    {
     "name": "stdout",
     "output_type": "stream",
     "text": [
      "--2024-07-24 10:50:04--  https://cloud.irit.fr/s/E22CahuMVTBhsbI/download\n",
      "Resolving cloud.irit.fr (cloud.irit.fr)... 141.115.28.28\n",
      "Connecting to cloud.irit.fr (cloud.irit.fr)|141.115.28.28|:443... connected.\n",
      "HTTP request sent, awaiting response... 200 OK\n",
      "Length: unspecified [application/zip]\n",
      "Saving to: ‘download’\n",
      "\n",
      "download                [           <=>      ]   5,54G  29,5MB/s    in 3m 28s  \n",
      "\n",
      "2024-07-24 10:53:33 (27,2 MB/s) - ‘download’ saved [5944800348]\n",
      "\n",
      "Archive:  download\n",
      "   creating: sentinel2_bands/\n",
      "   creating: sentinel2_bands/2019/\n",
      "   creating: sentinel2_bands/2019/01_january/\n",
      " extracting: sentinel2_bands/2019/01_january/T31TEJ_20190103T104431_B02_10m.jp2  \n",
      " extracting: sentinel2_bands/2019/01_january/T31TEJ_20190103T104431_B03_10m.jp2  \n",
      " extracting: sentinel2_bands/2019/01_january/T31TEJ_20190103T104431_B04_10m.jp2  \n",
      " extracting: sentinel2_bands/2019/01_january/T31TEJ_20190103T104431_B08_10m.jp2  \n",
      "   creating: sentinel2_bands/2019/02_february/\n",
      " extracting: sentinel2_bands/2019/02_february/T31TEJ_20190227T104019_B02_10m.jp2  \n",
      " extracting: sentinel2_bands/2019/02_february/T31TEJ_20190227T104019_B03_10m.jp2  \n",
      " extracting: sentinel2_bands/2019/02_february/T31TEJ_20190227T104019_B04_10m.jp2  \n",
      " extracting: sentinel2_bands/2019/02_february/T31TEJ_20190227T104019_B08_10m.jp2  \n",
      "   creating: sentinel2_bands/2019/03_march/\n",
      " extracting: sentinel2_bands/2019/03_march/T31TEJ_20190319T104019_B02_10m.jp2  \n",
      " extracting: sentinel2_bands/2019/03_march/T31TEJ_20190319T104019_B03_10m.jp2  \n",
      " extracting: sentinel2_bands/2019/03_march/T31TEJ_20190319T104019_B04_10m.jp2  \n",
      " extracting: sentinel2_bands/2019/03_march/T31TEJ_20190319T104019_B08_10m.jp2  \n",
      "   creating: sentinel2_bands/2019/04_april/\n",
      " extracting: sentinel2_bands/2019/04_april/T31TEJ_20190413T104021_B02_10m.jp2  \n",
      " extracting: sentinel2_bands/2019/04_april/T31TEJ_20190413T104021_B03_10m.jp2  \n",
      " extracting: sentinel2_bands/2019/04_april/T31TEJ_20190413T104021_B04_10m.jp2  \n",
      " extracting: sentinel2_bands/2019/04_april/T31TEJ_20190413T104021_B08_10m.jp2  \n",
      "   creating: sentinel2_bands/2019/05_may/\n",
      " extracting: sentinel2_bands/2019/05_may/T31TEJ_20190513T104031_B02_10m.jp2  \n",
      " extracting: sentinel2_bands/2019/05_may/T31TEJ_20190513T104031_B03_10m.jp2  \n",
      " extracting: sentinel2_bands/2019/05_may/T31TEJ_20190513T104031_B04_10m.jp2  \n",
      " extracting: sentinel2_bands/2019/05_may/T31TEJ_20190513T104031_B08_10m.jp2  \n",
      "   creating: sentinel2_bands/2019/06_june/\n",
      " extracting: sentinel2_bands/2019/06_june/T31TEJ_20190617T104029_B02_10m.jp2  \n",
      " extracting: sentinel2_bands/2019/06_june/T31TEJ_20190617T104029_B03_10m.jp2  \n",
      " extracting: sentinel2_bands/2019/06_june/T31TEJ_20190617T104029_B04_10m.jp2  \n",
      " extracting: sentinel2_bands/2019/06_june/T31TEJ_20190617T104029_B08_10m.jp2  \n",
      "   creating: sentinel2_bands/2019/07_july/\n",
      " extracting: sentinel2_bands/2019/07_july/T31TEJ_20190712T104031_B02_10m.jp2  \n",
      " extracting: sentinel2_bands/2019/07_july/T31TEJ_20190712T104031_B03_10m.jp2  \n",
      " extracting: sentinel2_bands/2019/07_july/T31TEJ_20190712T104031_B04_10m.jp2  \n",
      " extracting: sentinel2_bands/2019/07_july/T31TEJ_20190712T104031_B08_10m.jp2  \n",
      "   creating: sentinel2_bands/2019/08_august/\n",
      " extracting: sentinel2_bands/2019/08_august/T31TEJ_20190816T104029_B02_10m.jp2  \n",
      " extracting: sentinel2_bands/2019/08_august/T31TEJ_20190816T104029_B03_10m.jp2  \n",
      " extracting: sentinel2_bands/2019/08_august/T31TEJ_20190816T104029_B04_10m.jp2  \n",
      " extracting: sentinel2_bands/2019/08_august/T31TEJ_20190816T104029_B08_10m.jp2  \n",
      "   creating: sentinel2_bands/2019/09_september/\n",
      " extracting: sentinel2_bands/2019/09_september/T31TEJ_20190915T104019_B02_10m.jp2  \n",
      " extracting: sentinel2_bands/2019/09_september/T31TEJ_20190915T104019_B03_10m.jp2  \n",
      " extracting: sentinel2_bands/2019/09_september/T31TEJ_20190915T104019_B04_10m.jp2  \n",
      " extracting: sentinel2_bands/2019/09_september/T31TEJ_20190915T104019_B08_10m.jp2  \n",
      "   creating: sentinel2_bands/2019/10_october/\n",
      " extracting: sentinel2_bands/2019/10_october/T31TEJ_20191025T104029_B02_10m.jp2  \n",
      " extracting: sentinel2_bands/2019/10_october/T31TEJ_20191025T104029_B03_10m.jp2  \n",
      " extracting: sentinel2_bands/2019/10_october/T31TEJ_20191025T104029_B04_10m.jp2  \n",
      " extracting: sentinel2_bands/2019/10_october/T31TEJ_20191025T104029_B08_10m.jp2  \n",
      "   creating: sentinel2_bands/2019/11_november/\n",
      " extracting: sentinel2_bands/2019/11_november/T31TEJ_20191109T104251_B02_10m.jp2  \n",
      " extracting: sentinel2_bands/2019/11_november/T31TEJ_20191109T104251_B03_10m.jp2  \n",
      " extracting: sentinel2_bands/2019/11_november/T31TEJ_20191109T104251_B04_10m.jp2  \n",
      " extracting: sentinel2_bands/2019/11_november/T31TEJ_20191109T104251_B08_10m.jp2  \n",
      "   creating: sentinel2_bands/2019/12_december/\n",
      " extracting: sentinel2_bands/2019/12_december/T31TEJ_20191229T104441_B02_10m.jp2  \n",
      " extracting: sentinel2_bands/2019/12_december/T31TEJ_20191229T104441_B03_10m.jp2  \n",
      " extracting: sentinel2_bands/2019/12_december/T31TEJ_20191229T104441_B04_10m.jp2  \n",
      " extracting: sentinel2_bands/2019/12_december/T31TEJ_20191229T104441_B08_10m.jp2  \n"
     ]
    }
   ],
   "source": [
    "!rm download*\n",
    "!wget https://cloud.irit.fr/s/E22CahuMVTBhsbI/download\n",
    "!unzip download\n",
    "!rm download\n",
    "!mv sentinel2_bands data"
   ]
  },
  {
   "cell_type": "markdown",
   "metadata": {},
   "source": [
    "## Download elevation data"
   ]
  },
  {
   "cell_type": "code",
   "execution_count": null,
   "metadata": {
    "scrolled": true
   },
   "outputs": [
    {
     "name": "stdout",
     "output_type": "stream",
     "text": [
      "rm: cannot remove 'download*': No such file or directory\n",
      "--2024-07-24 10:58:00--  https://cloud.irit.fr/s/HBeMWkfLvhkysrf/download\n",
      "Resolving cloud.irit.fr (cloud.irit.fr)... 141.115.28.28\n",
      "Connecting to cloud.irit.fr (cloud.irit.fr)|141.115.28.28|:443... connected.\n",
      "HTTP request sent, awaiting response... 200 OK\n",
      "Length: unspecified [application/zip]\n",
      "Saving to: ‘download’\n",
      "\n",
      "download                [ <=>                ] 289,20M  46,2MB/s    in 6,5s    \n",
      "\n",
      "2024-07-24 10:58:07 (44,3 MB/s) - ‘download’ saved [303251626]\n",
      "\n",
      "Archive:  download\n",
      "   creating: Elevation data/\n",
      " extracting: Elevation data/raw_elevation_data_10m.tif  \n"
     ]
    }
   ],
   "source": [
    "!rm download*\n",
    "!wget https://cloud.irit.fr/s/HBeMWkfLvhkysrf/download\n",
    "!unzip download\n",
    "!rm download\n",
    "!mv 'Elevation data' data/elevation_data"
   ]
  },
  {
   "cell_type": "markdown",
   "metadata": {},
   "source": [
    "## Download geojson dataset"
   ]
  },
  {
   "cell_type": "code",
   "execution_count": 16,
   "metadata": {},
   "outputs": [
    {
     "name": "stdout",
     "output_type": "stream",
     "text": [
      "--2024-07-24 11:07:46--  https://cloud.irit.fr/s/3hEr67GQ2C4bWG9/download\n",
      "Resolving cloud.irit.fr (cloud.irit.fr)... 141.115.28.28\n",
      "Connecting to cloud.irit.fr (cloud.irit.fr)|141.115.28.28|:443... connected.\n",
      "HTTP request sent, awaiting response... 200 OK\n",
      "Length: 58238343 (56M) [application/octet-stream]\n",
      "Saving to: ‘download’\n",
      "\n",
      "download            100%[===================>]  55,54M  38,6MB/s    in 1,4s    \n",
      "\n",
      "2024-07-24 11:07:48 (38,6 MB/s) - ‘download’ saved [58238343/58238343]\n",
      "\n"
     ]
    }
   ],
   "source": [
    "!rm download*\n",
    "!wget https://cloud.irit.fr/s/3hEr67GQ2C4bWG9/download\n",
    "!mv download data/dataset.geojson"
   ]
  },
  {
   "cell_type": "markdown",
   "metadata": {},
   "source": [
    "# Define paths\n",
    "\n",
    "Data tree path should look like this:\n",
    "```\n",
    ".  \n",
    "|__data/  \n",
    "    |__sentinel2_bands/<year>/<month>/<band>\n",
    "    |__elevation_data/  \n",
    "    |__dataset.geojson\n",
    "```"
   ]
  },
  {
   "cell_type": "code",
   "execution_count": 25,
   "metadata": {
    "scrolled": true
   },
   "outputs": [
    {
     "data": {
      "text/plain": [
       "['T31TEJ_20191229T104441_B04_10m.jp2',\n",
       " 'T31TEJ_20191229T104441_B03_10m.jp2',\n",
       " 'T31TEJ_20191229T104441_B02_10m.jp2',\n",
       " 'T31TEJ_20191229T104441_B08_10m.jp2']"
      ]
     },
     "execution_count": 25,
     "metadata": {},
     "output_type": "execute_result"
    }
   ],
   "source": []
  },
  {
   "cell_type": "code",
   "execution_count": 2,
   "metadata": {
    "scrolled": true
   },
   "outputs": [
    {
     "name": "stdout",
     "output_type": "stream",
     "text": [
      "c:\\Users\\leoma\\ter\\Ter-2024\\data\\elevation_data\\raw_elevation_data_10m.tif\n",
      "c:\\Users\\leoma\\ter\\Ter-2024\\data\\dataset.geojson\n",
      "Data path for sentinel-2, 2019, february, red band: c:\\Users\\leoma\\ter\\Ter-2024\\data\\sentinel2_bands\\2019\\02_february\\T31TEJ_20190227T104019_B03_10m.jp2\n"
     ]
    }
   ],
   "source": [
    "import os\n",
    "\n",
    "def get_elevation_data_path() -> str:\n",
    "    return os.path.abspath(\"./data/elevation_data/raw_elevation_data_10m.tif\")\n",
    "\n",
    "def get_geojson_path() -> str:\n",
    "    return os.path.abspath(\"./data/dataset.geojson\")\n",
    "    \n",
    "def get_sentinel_data_path() -> dict:\n",
    "    paths = {}\n",
    "    years = os.listdir(\"data/sentinel2_bands\")\n",
    "    for year in years:\n",
    "        y = int(year)\n",
    "        paths[y] = {}\n",
    "        months = os.listdir(f\"data/sentinel2_bands/{year}\")\n",
    "        for month in months:\n",
    "            m = int(month.split(\"_\")[0])\n",
    "            paths[y][m] = {}\n",
    "            bands = os.listdir(f\"data/sentinel2_bands/{year}/{month}/\") \n",
    "            for band in bands:\n",
    "                band_name = band.split(\"_\")[2]\n",
    "                paths[y][m][band_name] = os.path.abspath(f\"./data/sentinel2_bands/{year}/{month}/{band}\")\n",
    "    return paths\n",
    "\n",
    "sentinel_data_path = get_sentinel_data_path()\n",
    "elevation_path = get_elevation_data_path()\n",
    "geojson_path = get_geojson_path()\n",
    "\n",
    "print(elevation_path)\n",
    "print(geojson_path)\n",
    "print(f\"Data path for sentinel-2, 2019, february, red band: {sentinel_data_path[2019][2]['B03']}\")\n",
    "\n",
    "# abs_path = \"./data\"\n",
    "# geojson_path = abs_path + \"/dataset.geojson\"\n",
    "# sentinel_path_2019 = abs_path + \"/sentinel2_bands/2019/\"\n",
    "# sentinel_january = sentinel_path_2019 + \"/01_january/\"\n",
    "\n",
    "# blue_band_path = sentinel_january + \"T31TEJ_20190103T104431_B02_10m.jp2\"\n",
    "# green_band_path = sentinel_january + \"T31TEJ_20190103T104431_B03_10m.jp2\"\n",
    "# red_band_path = sentinel_january + \"T31TEJ_20190103T104431_B04_10m.jp2\"\n",
    "# nir_band_path = sentinel_january + \"T31TEJ_20190103T104431_B08_10m.jp2\"\n",
    "# elevation_path = abs_path + \"/raw_elevation_data_10m.tif\""
   ]
  },
  {
   "cell_type": "code",
   "execution_count": 35,
   "metadata": {},
   "outputs": [],
   "source": [
    "######## CHECKPOINT ########"
   ]
  },
  {
   "cell_type": "code",
   "execution_count": 6,
   "metadata": {},
   "outputs": [],
   "source": [
    "# Load metadata and band data\n",
    "meta = rasterio.open(sentinel_data_path[2019][1]['B08']).meta\n",
    "\n",
    "blue_band = rasterio.open(sentinel_data_path[2019][1]['B02']).read(1).astype('float32')\n",
    "green_band = rasterio.open(sentinel_data_path[2019][1]['B03']).read(1).astype('float32')\n",
    "red_band = rasterio.open(sentinel_data_path[2019][1]['B04']).read(1).astype('float32')\n",
    "nir_band = rasterio.open(sentinel_data_path[2019][1]['B08']).read(1).astype('float32')\n",
    "elevation = rasterio.open(elevation_path).read(1).astype('float32')"
   ]
  },
  {
   "cell_type": "code",
   "execution_count": 7,
   "metadata": {},
   "outputs": [],
   "source": [
    "# Function to plot bands\n",
    "def plot(nrows, ncols, idx, arr, title):\n",
    "    plt.subplot(nrows, ncols, idx)\n",
    "    plt.imshow(arr)\n",
    "    plt.axis('off')\n",
    "    plt.title(title)"
   ]
  },
  {
   "cell_type": "code",
   "execution_count": 8,
   "metadata": {},
   "outputs": [
    {
     "data": {
      "image/png": "[encoded data removed]",
      "text/plain": [
       "<Figure size 640x480 with 5 Axes>"
      ]
     },
     "metadata": {},
     "output_type": "display_data"
    }
   ],
   "source": [
    "# Plot the bands\n",
    "plot(1, 5, 1, blue_band, \"Blue\")\n",
    "plot(1, 5, 2, green_band, \"Green\")\n",
    "plot(1, 5, 3, red_band, \"Red\")\n",
    "plot(1, 5, 4, nir_band, \"NIR\")\n",
    "plot(1, 5, 5, elevation, \"Elevation\")\n",
    "plt.show()"
   ]
  },
  {
   "cell_type": "code",
   "execution_count": 9,
   "metadata": {},
   "outputs": [
    {
     "ename": "ValueError",
     "evalue": "Must pass either crs or epsg.",
     "output_type": "error",
     "traceback": [
      "\u001b[1;31m---------------------------------------------------------------------------\u001b[0m",
      "\u001b[1;31mValueError\u001b[0m                                Traceback (most recent call last)",
      "Cell \u001b[1;32mIn[9], line 13\u001b[0m\n\u001b[0;32m     10\u001b[0m nir \u001b[38;5;241m=\u001b[39m rasterio\u001b[38;5;241m.\u001b[39mopen(sentinel_data_path[\u001b[38;5;241m2019\u001b[39m][\u001b[38;5;241m2\u001b[39m][\u001b[38;5;124m'\u001b[39m\u001b[38;5;124mB08\u001b[39m\u001b[38;5;124m'\u001b[39m])\n\u001b[0;32m     12\u001b[0m gdf \u001b[38;5;241m=\u001b[39m gpd\u001b[38;5;241m.\u001b[39mread_file(geojson_path)\n\u001b[1;32m---> 13\u001b[0m gdf \u001b[38;5;241m=\u001b[39m \u001b[43mgdf\u001b[49m\u001b[38;5;241;43m.\u001b[39;49m\u001b[43mto_crs\u001b[49m\u001b[43m(\u001b[49m\u001b[43mnir\u001b[49m\u001b[38;5;241;43m.\u001b[39;49m\u001b[43mcrs\u001b[49m\u001b[43m)\u001b[49m\n",
      "File \u001b[1;32m~\\AppData\\Local\\Packages\\PythonSoftwareFoundation.Python.3.11_qbz5n2kfra8p0\\LocalCache\\local-packages\\Python311\\site-packages\\geopandas\\geodataframe.py:1410\u001b[0m, in \u001b[0;36mGeoDataFrame.to_crs\u001b[1;34m(self, crs, epsg, inplace)\u001b[0m\n\u001b[0;32m   1408\u001b[0m \u001b[38;5;28;01melse\u001b[39;00m:\n\u001b[0;32m   1409\u001b[0m     df \u001b[38;5;241m=\u001b[39m \u001b[38;5;28mself\u001b[39m\u001b[38;5;241m.\u001b[39mcopy()\n\u001b[1;32m-> 1410\u001b[0m geom \u001b[38;5;241m=\u001b[39m \u001b[43mdf\u001b[49m\u001b[38;5;241;43m.\u001b[39;49m\u001b[43mgeometry\u001b[49m\u001b[38;5;241;43m.\u001b[39;49m\u001b[43mto_crs\u001b[49m\u001b[43m(\u001b[49m\u001b[43mcrs\u001b[49m\u001b[38;5;241;43m=\u001b[39;49m\u001b[43mcrs\u001b[49m\u001b[43m,\u001b[49m\u001b[43m \u001b[49m\u001b[43mepsg\u001b[49m\u001b[38;5;241;43m=\u001b[39;49m\u001b[43mepsg\u001b[49m\u001b[43m)\u001b[49m\n\u001b[0;32m   1411\u001b[0m df\u001b[38;5;241m.\u001b[39mgeometry \u001b[38;5;241m=\u001b[39m geom\n\u001b[0;32m   1412\u001b[0m \u001b[38;5;28;01mif\u001b[39;00m \u001b[38;5;129;01mnot\u001b[39;00m inplace:\n",
      "File \u001b[1;32m~\\AppData\\Local\\Packages\\PythonSoftwareFoundation.Python.3.11_qbz5n2kfra8p0\\LocalCache\\local-packages\\Python311\\site-packages\\geopandas\\geoseries.py:1175\u001b[0m, in \u001b[0;36mGeoSeries.to_crs\u001b[1;34m(self, crs, epsg)\u001b[0m\n\u001b[0;32m   1096\u001b[0m \u001b[38;5;28;01mdef\u001b[39;00m \u001b[38;5;21mto_crs\u001b[39m(\n\u001b[0;32m   1097\u001b[0m     \u001b[38;5;28mself\u001b[39m, crs: Optional[Any] \u001b[38;5;241m=\u001b[39m \u001b[38;5;28;01mNone\u001b[39;00m, epsg: Optional[\u001b[38;5;28mint\u001b[39m] \u001b[38;5;241m=\u001b[39m \u001b[38;5;28;01mNone\u001b[39;00m\n\u001b[0;32m   1098\u001b[0m ) \u001b[38;5;241m-\u001b[39m\u001b[38;5;241m>\u001b[39m GeoSeries:\n\u001b[0;32m   1099\u001b[0m \u001b[38;5;250m    \u001b[39m\u001b[38;5;124;03m\"\"\"Returns a ``GeoSeries`` with all geometries transformed to a new\u001b[39;00m\n\u001b[0;32m   1100\u001b[0m \u001b[38;5;124;03m    coordinate reference system.\u001b[39;00m\n\u001b[0;32m   1101\u001b[0m \n\u001b[1;32m   (...)\u001b[0m\n\u001b[0;32m   1172\u001b[0m \n\u001b[0;32m   1173\u001b[0m \u001b[38;5;124;03m    \"\"\"\u001b[39;00m\n\u001b[0;32m   1174\u001b[0m     \u001b[38;5;28;01mreturn\u001b[39;00m GeoSeries(\n\u001b[1;32m-> 1175\u001b[0m         \u001b[38;5;28;43mself\u001b[39;49m\u001b[38;5;241;43m.\u001b[39;49m\u001b[43mvalues\u001b[49m\u001b[38;5;241;43m.\u001b[39;49m\u001b[43mto_crs\u001b[49m\u001b[43m(\u001b[49m\u001b[43mcrs\u001b[49m\u001b[38;5;241;43m=\u001b[39;49m\u001b[43mcrs\u001b[49m\u001b[43m,\u001b[49m\u001b[43m \u001b[49m\u001b[43mepsg\u001b[49m\u001b[38;5;241;43m=\u001b[39;49m\u001b[43mepsg\u001b[49m\u001b[43m)\u001b[49m, index\u001b[38;5;241m=\u001b[39m\u001b[38;5;28mself\u001b[39m\u001b[38;5;241m.\u001b[39mindex, name\u001b[38;5;241m=\u001b[39m\u001b[38;5;28mself\u001b[39m\u001b[38;5;241m.\u001b[39mname\n\u001b[0;32m   1176\u001b[0m     )\n",
      "File \u001b[1;32m~\\AppData\\Local\\Packages\\PythonSoftwareFoundation.Python.3.11_qbz5n2kfra8p0\\LocalCache\\local-packages\\Python311\\site-packages\\geopandas\\array.py:864\u001b[0m, in \u001b[0;36mGeometryArray.to_crs\u001b[1;34m(self, crs, epsg)\u001b[0m\n\u001b[0;32m    862\u001b[0m     crs \u001b[38;5;241m=\u001b[39m CRS\u001b[38;5;241m.\u001b[39mfrom_epsg(epsg)\n\u001b[0;32m    863\u001b[0m \u001b[38;5;28;01melse\u001b[39;00m:\n\u001b[1;32m--> 864\u001b[0m     \u001b[38;5;28;01mraise\u001b[39;00m \u001b[38;5;167;01mValueError\u001b[39;00m(\u001b[38;5;124m\"\u001b[39m\u001b[38;5;124mMust pass either crs or epsg.\u001b[39m\u001b[38;5;124m\"\u001b[39m)\n\u001b[0;32m    866\u001b[0m \u001b[38;5;66;03m# skip if the input CRS and output CRS are the exact same\u001b[39;00m\n\u001b[0;32m    867\u001b[0m \u001b[38;5;28;01mif\u001b[39;00m \u001b[38;5;28mself\u001b[39m\u001b[38;5;241m.\u001b[39mcrs\u001b[38;5;241m.\u001b[39mis_exact_same(crs):\n",
      "\u001b[1;31mValueError\u001b[0m: Must pass either crs or epsg."
     ]
    }
   ],
   "source": [
    "# Function to load geojson data\n",
    "def stats():\n",
    "    data_path = geojson_path\n",
    "    with open(data_path) as f:\n",
    "        data = geojson.load(f)\n",
    "    return data\n",
    "\n",
    "data = stats()\n",
    "\n",
    "nir = rasterio.open(sentinel_data_path[2019][1]['B08'])\n",
    "\n",
    "gdf = gpd.read_file(geojson_path)\n",
    "gdf = gdf.to_crs(nir.crs)"
   ]
  },
  {
   "cell_type": "code",
   "execution_count": 23,
   "metadata": {},
   "outputs": [],
   "source": [
    "labels = [\"Limite\", \"Assez_limite\", \"Moyen\", \"Assez_fort\", \"Fort_a_tres_fort\"]\n",
    "band_paths = [sentinel_data_path[2019][1]['B02'], sentinel_data_path[2019][1]['B03'], sentinel_data_path[2019][1]['B04'], sentinel_data_path[2019][1]['B08']]\n",
    "band_names = [\"Blue\", \"Green\", \"Red\", \"NIR\"]\n",
    "\n",
    "# Create the combined mask\n",
    "combined_mask = np.zeros(nir.shape, dtype=bool)\n",
    "for label in labels:\n",
    "    mask = geometry_mask(gdf[gdf[\"pot_global\"] == label].geometry, \n",
    "                         out_shape=nir.shape, \n",
    "                         transform=nir.transform, \n",
    "                         invert=True)\n",
    "    combined_mask |= mask"
   ]
  },
  {
   "cell_type": "code",
   "execution_count": 25,
   "metadata": {},
   "outputs": [
    {
     "ename": "CRSError",
     "evalue": "CRS is invalid: None",
     "output_type": "error",
     "traceback": [
      "\u001b[1;31m---------------------------------------------------------------------------\u001b[0m",
      "\u001b[1;31mCRSError\u001b[0m                                  Traceback (most recent call last)",
      "Cell \u001b[1;32mIn[25], line 4\u001b[0m\n\u001b[0;32m      2\u001b[0m \u001b[38;5;28;01mwith\u001b[39;00m rasterio\u001b[38;5;241m.\u001b[39mopen(elevation_path) \u001b[38;5;28;01mas\u001b[39;00m src:\n\u001b[0;32m      3\u001b[0m     elevation_meta \u001b[38;5;241m=\u001b[39m src\u001b[38;5;241m.\u001b[39mmeta\n\u001b[1;32m----> 4\u001b[0m     transform, width, height \u001b[38;5;241m=\u001b[39m \u001b[43mcalculate_default_transform\u001b[49m\u001b[43m(\u001b[49m\n\u001b[0;32m      5\u001b[0m \u001b[43m        \u001b[49m\u001b[43msrc\u001b[49m\u001b[38;5;241;43m.\u001b[39;49m\u001b[43mcrs\u001b[49m\u001b[43m,\u001b[49m\u001b[43m \u001b[49m\u001b[43mmeta\u001b[49m\u001b[43m[\u001b[49m\u001b[38;5;124;43m'\u001b[39;49m\u001b[38;5;124;43mcrs\u001b[39;49m\u001b[38;5;124;43m'\u001b[39;49m\u001b[43m]\u001b[49m\u001b[43m,\u001b[49m\u001b[43m \u001b[49m\u001b[43mmeta\u001b[49m\u001b[43m[\u001b[49m\u001b[38;5;124;43m'\u001b[39;49m\u001b[38;5;124;43mwidth\u001b[39;49m\u001b[38;5;124;43m'\u001b[39;49m\u001b[43m]\u001b[49m\u001b[43m,\u001b[49m\u001b[43m \u001b[49m\u001b[43mmeta\u001b[49m\u001b[43m[\u001b[49m\u001b[38;5;124;43m'\u001b[39;49m\u001b[38;5;124;43mheight\u001b[39;49m\u001b[38;5;124;43m'\u001b[39;49m\u001b[43m]\u001b[49m\u001b[43m,\u001b[49m\u001b[43m \u001b[49m\u001b[38;5;241;43m*\u001b[39;49m\u001b[43msrc\u001b[49m\u001b[38;5;241;43m.\u001b[39;49m\u001b[43mbounds\u001b[49m\u001b[43m)\u001b[49m\n\u001b[0;32m      6\u001b[0m     elevation_resampled \u001b[38;5;241m=\u001b[39m np\u001b[38;5;241m.\u001b[39mzeros((meta[\u001b[38;5;124m'\u001b[39m\u001b[38;5;124mheight\u001b[39m\u001b[38;5;124m'\u001b[39m], meta[\u001b[38;5;124m'\u001b[39m\u001b[38;5;124mwidth\u001b[39m\u001b[38;5;124m'\u001b[39m]), np\u001b[38;5;241m.\u001b[39mfloat32)\n\u001b[0;32m      8\u001b[0m     reproject(\n\u001b[0;32m      9\u001b[0m         source\u001b[38;5;241m=\u001b[39mrasterio\u001b[38;5;241m.\u001b[39mband(src, \u001b[38;5;241m1\u001b[39m),\n\u001b[0;32m     10\u001b[0m         destination\u001b[38;5;241m=\u001b[39melevation_resampled,\n\u001b[1;32m   (...)\u001b[0m\n\u001b[0;32m     14\u001b[0m         dst_crs\u001b[38;5;241m=\u001b[39mmeta[\u001b[38;5;124m'\u001b[39m\u001b[38;5;124mcrs\u001b[39m\u001b[38;5;124m'\u001b[39m],\n\u001b[0;32m     15\u001b[0m         resampling\u001b[38;5;241m=\u001b[39mResampling\u001b[38;5;241m.\u001b[39mnearest)\n",
      "File \u001b[1;32m~\\AppData\\Local\\Packages\\PythonSoftwareFoundation.Python.3.11_qbz5n2kfra8p0\\LocalCache\\local-packages\\Python311\\site-packages\\rasterio\\env.py:398\u001b[0m, in \u001b[0;36mensure_env.<locals>.wrapper\u001b[1;34m(*args, **kwds)\u001b[0m\n\u001b[0;32m    395\u001b[0m \u001b[38;5;129m@wraps\u001b[39m(f)\n\u001b[0;32m    396\u001b[0m \u001b[38;5;28;01mdef\u001b[39;00m \u001b[38;5;21mwrapper\u001b[39m(\u001b[38;5;241m*\u001b[39margs, \u001b[38;5;241m*\u001b[39m\u001b[38;5;241m*\u001b[39mkwds):\n\u001b[0;32m    397\u001b[0m     \u001b[38;5;28;01mif\u001b[39;00m local\u001b[38;5;241m.\u001b[39m_env:\n\u001b[1;32m--> 398\u001b[0m         \u001b[38;5;28;01mreturn\u001b[39;00m \u001b[43mf\u001b[49m\u001b[43m(\u001b[49m\u001b[38;5;241;43m*\u001b[39;49m\u001b[43margs\u001b[49m\u001b[43m,\u001b[49m\u001b[43m \u001b[49m\u001b[38;5;241;43m*\u001b[39;49m\u001b[38;5;241;43m*\u001b[39;49m\u001b[43mkwds\u001b[49m\u001b[43m)\u001b[49m\n\u001b[0;32m    399\u001b[0m     \u001b[38;5;28;01melse\u001b[39;00m:\n\u001b[0;32m    400\u001b[0m         \u001b[38;5;28;01mwith\u001b[39;00m Env\u001b[38;5;241m.\u001b[39mfrom_defaults():\n",
      "File \u001b[1;32m~\\AppData\\Local\\Packages\\PythonSoftwareFoundation.Python.3.11_qbz5n2kfra8p0\\LocalCache\\local-packages\\Python311\\site-packages\\rasterio\\warp.py:486\u001b[0m, in \u001b[0;36mcalculate_default_transform\u001b[1;34m(src_crs, dst_crs, width, height, left, bottom, right, top, gcps, rpcs, resolution, dst_width, dst_height, **kwargs)\u001b[0m\n\u001b[0;32m    483\u001b[0m \u001b[38;5;28;01mif\u001b[39;00m resolution \u001b[38;5;129;01mand\u001b[39;00m dimensions:\n\u001b[0;32m    484\u001b[0m     \u001b[38;5;28;01mraise\u001b[39;00m \u001b[38;5;167;01mValueError\u001b[39;00m(\u001b[38;5;124m\"\u001b[39m\u001b[38;5;124mResolution cannot be used with dst_width and dst_height.\u001b[39m\u001b[38;5;124m\"\u001b[39m)\n\u001b[1;32m--> 486\u001b[0m dst_affine, dst_width, dst_height \u001b[38;5;241m=\u001b[39m \u001b[43m_calculate_default_transform\u001b[49m\u001b[43m(\u001b[49m\n\u001b[0;32m    487\u001b[0m \u001b[43m    \u001b[49m\u001b[43msrc_crs\u001b[49m\u001b[43m,\u001b[49m\u001b[43m \u001b[49m\u001b[43mdst_crs\u001b[49m\u001b[43m,\u001b[49m\u001b[43m \u001b[49m\u001b[43mwidth\u001b[49m\u001b[43m,\u001b[49m\u001b[43m \u001b[49m\u001b[43mheight\u001b[49m\u001b[43m,\u001b[49m\u001b[43m \u001b[49m\u001b[43mleft\u001b[49m\u001b[43m,\u001b[49m\u001b[43m \u001b[49m\u001b[43mbottom\u001b[49m\u001b[43m,\u001b[49m\u001b[43m \u001b[49m\u001b[43mright\u001b[49m\u001b[43m,\u001b[49m\u001b[43m \u001b[49m\u001b[43mtop\u001b[49m\u001b[43m,\u001b[49m\u001b[43m \u001b[49m\u001b[43mgcps\u001b[49m\u001b[43m,\u001b[49m\u001b[43m \u001b[49m\u001b[43mrpcs\u001b[49m\u001b[43m,\u001b[49m\u001b[43m \u001b[49m\u001b[38;5;241;43m*\u001b[39;49m\u001b[38;5;241;43m*\u001b[39;49m\u001b[43mkwargs\u001b[49m\n\u001b[0;32m    488\u001b[0m \u001b[43m\u001b[49m\u001b[43m)\u001b[49m\n\u001b[0;32m    490\u001b[0m \u001b[38;5;66;03m# If resolution is specified, Keep upper-left anchored\u001b[39;00m\n\u001b[0;32m    491\u001b[0m \u001b[38;5;66;03m# adjust the transform resolutions\u001b[39;00m\n\u001b[0;32m    492\u001b[0m \u001b[38;5;66;03m# adjust the width/height by the ratio of estimated:specified res (ceil'd)\u001b[39;00m\n\u001b[0;32m    493\u001b[0m \u001b[38;5;28;01mif\u001b[39;00m resolution:\n\u001b[0;32m    494\u001b[0m     \u001b[38;5;66;03m# resolutions argument into tuple\u001b[39;00m\n",
      "File \u001b[1;32mrasterio\\\\_warp.pyx:650\u001b[0m, in \u001b[0;36mrasterio._warp._calculate_default_transform\u001b[1;34m()\u001b[0m\n",
      "File \u001b[1;32mrasterio\\\\crs.pyx:783\u001b[0m, in \u001b[0;36mrasterio.crs.CRS.from_user_input\u001b[1;34m()\u001b[0m\n",
      "\u001b[1;31mCRSError\u001b[0m: CRS is invalid: None"
     ]
    }
   ],
   "source": [
    "# Resample elevation data to match the other bands\n",
    "with rasterio.open(elevation_path) as src:\n",
    "    elevation_meta = src.meta\n",
    "    transform, width, height = calculate_default_transform(\n",
    "        src.crs, meta['crs'], meta['width'], meta['height'], *src.bounds)\n",
    "    elevation_resampled = np.zeros((meta['height'], meta['width']), np.float32)\n",
    "\n",
    "    reproject(\n",
    "        source=rasterio.band(src, 1),\n",
    "        destination=elevation_resampled,\n",
    "        src_transform=src.transform,\n",
    "        src_crs=src.crs,\n",
    "        dst_transform=meta['transform'],\n",
    "        dst_crs=meta['crs'],\n",
    "        resampling=Resampling.nearest)"
   ]
  },
  {
   "cell_type": "code",
   "execution_count": null,
   "metadata": {},
   "outputs": [],
   "source": [
    "# Create mask for elevation data\n",
    "elevation_mask = np.zeros(elevation_resampled.shape, dtype=bool)\n",
    "for label in labels:\n",
    "    mask = geometry_mask(gdf[gdf[\"pot_global\"] == label].geometry,\n",
    "                         out_shape=elevation_resampled.shape,\n",
    "                         transform=meta['transform'],\n",
    "                         invert=True)\n",
    "    elevation_mask |= mask  "
   ]
  },
  {
   "cell_type": "code",
   "execution_count": null,
   "metadata": {},
   "outputs": [],
   "source": [
    "# Create 3D array to hold band values\n",
    "values = np.zeros((nir_band.shape[0], nir_band.shape[1], 5), dtype='float32')\n",
    "\n",
    "# Fill values array with band data\n",
    "for i, (band_path, band_name) in enumerate(zip(band_paths, band_names)):\n",
    "    band = rasterio.open(band_path).read(1).astype('float32')\n",
    "    values[:, :, i] = np.where(combined_mask, band, np.nan)  # Use np.nan for masked areas\n",
    "\n",
    "# Add resampled elevation data to values array\n",
    "values[:, :, 4] = np.where(elevation_mask, elevation_resampled, np.nan)  # Use np.nan for masked areas\n"
   ]
  },
  {
   "cell_type": "code",
   "execution_count": null,
   "metadata": {},
   "outputs": [],
   "source": [
    "# Display the combined mask\n",
    "plt.imshow(combined_mask, cmap='gray')\n",
    "plt.title(\"Combined Mask\")\n",
    "plt.show()"
   ]
  },
  {
   "cell_type": "code",
   "execution_count": null,
   "metadata": {},
   "outputs": [],
   "source": [
    "# Display the values for each band\n",
    "for i, band_name in enumerate(band_names):\n",
    "    plt.imshow(values[:, :, i],vmin=0, vmax=2000)\n",
    "    plt.title(f\"{band_name} Values\")\n",
    "    plt.colorbar()\n",
    "    plt.show()"
   ]
  },
  {
   "cell_type": "code",
   "execution_count": null,
   "metadata": {},
   "outputs": [],
   "source": [
    "plt.imshow(values[:, :, 4],vmin=-5, vmax=500)\n",
    "plt.title(f\"Elevation Values\")\n",
    "plt.colorbar()\n",
    "plt.show() "
   ]
  }
 ],
 "metadata": {
  "kernelspec": {
   "display_name": "Python 3",
   "language": "python",
   "name": "python3"
  },
  "language_info": {
   "codemirror_mode": {
    "name": "ipython",
    "version": 3
   },
   "file_extension": ".py",
   "mimetype": "text/x-python",
   "name": "python",
   "nbconvert_exporter": "python",
   "pygments_lexer": "ipython3",
   "version": "3.11.9"
  }
 },
 "nbformat": 4,
 "nbformat_minor": 4
}
